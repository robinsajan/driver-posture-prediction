{
 "cells": [
  {
   "cell_type": "code",
   "execution_count": 1,
   "id": "57e61618",
   "metadata": {},
   "outputs": [],
   "source": [
    "import os\n",
    "import numpy as np\n",
    "import pandas as pd\n",
    "from glob import glob\n",
    "from PIL import Image\n",
    "import matplotlib.pyplot as plt\n",
    "import tensorflow as tf\n",
    "from tensorflow import keras\n",
    "from keras.preprocessing.image import ImageDataGenerator\n",
    "from keras.layers import Input, Lambda, Dense, Flatten\n",
    "from keras.models import Model\n",
    "from keras.applications.vgg16 import VGG16\n",
    "from keras.applications.vgg16 import preprocess_input\n",
    "from keras.models import Sequential"
   ]
  },
  {
   "cell_type": "code",
   "execution_count": 2,
   "id": "4f2250d2",
   "metadata": {},
   "outputs": [
    {
     "name": "stdout",
     "output_type": "stream",
     "text": [
      "num GPU  1\n",
      "[name: \"/device:CPU:0\"\n",
      "device_type: \"CPU\"\n",
      "memory_limit: 268435456\n",
      "locality {\n",
      "}\n",
      "incarnation: 4035655431290294566\n",
      ", name: \"/device:GPU:0\"\n",
      "device_type: \"GPU\"\n",
      "memory_limit: 1401752372\n",
      "locality {\n",
      "  bus_id: 1\n",
      "  links {\n",
      "  }\n",
      "}\n",
      "incarnation: 4286626533522879279\n",
      "physical_device_desc: \"device: 0, name: GeForce MX330, pci bus id: 0000:2b:00.0, compute capability: 6.1\"\n",
      "]\n"
     ]
    }
   ],
   "source": [
    "from tensorflow.python.client import device_lib\n",
    "print(\"num GPU \",len(tf.config.experimental.list_physical_devices('GPU')))\n",
    "print(device_lib.list_local_devices())"
   ]
  },
  {
   "cell_type": "code",
   "execution_count": 3,
   "id": "ab354400",
   "metadata": {},
   "outputs": [
    {
     "name": "stdout",
     "output_type": "stream",
     "text": [
      "Number of images in training set =  21464\n",
      "Number of images in testing set =  10\n"
     ]
    }
   ],
   "source": [
    "base_dir = \"..\\mini project\"\n",
    "img_folder = os.path.join(base_dir, 'imgs/')\n",
    "train_imgs = os.path.join(img_folder, 'train/')\n",
    "test_imgs = os.path.join(base_dir, 'test_set/')\n",
    "\n",
    "print('Number of images in training set = ',str(len(glob(train_imgs+'*/*'))))\n",
    "print('Number of images in testing set = ',str(len(glob(test_imgs+'*'))))"
   ]
  },
  {
   "cell_type": "code",
   "execution_count": 4,
   "id": "ebc6227b",
   "metadata": {},
   "outputs": [],
   "source": [
    "classes = ['c0', 'c1', 'c2', 'c3', 'c4', 'c5', 'c6', 'c7', 'c8', 'c9']\n",
    "\n",
    "class_def = {'c0': 'safe driving',\n",
    "'c1': 'texting - right',\n",
    "'c2': 'talking on the phone - right',\n",
    "'c3': 'texting - left',\n",
    "'c4': 'talking on the phone - left',\n",
    "'c5': 'operating the radio',\n",
    "'c6': 'drinking',\n",
    "'c7': 'reaching behind',\n",
    "'c8': 'hair and makeup',\n",
    "'c9': 'talking to passenger'}"
   ]
  },
  {
   "cell_type": "code",
   "execution_count": 5,
   "id": "97645c4f",
   "metadata": {},
   "outputs": [],
   "source": [
    "train_datagen = ImageDataGenerator(rescale=1./255,validation_split=.12)\n",
    "test_datagen = ImageDataGenerator(rescale=1./255)"
   ]
  },
  {
   "cell_type": "code",
   "execution_count": 6,
   "id": "f26aeed5",
   "metadata": {},
   "outputs": [
    {
     "name": "stdout",
     "output_type": "stream",
     "text": [
      "Training images\n",
      "Found 18894 images belonging to 10 classes.\n",
      "Validation images\n",
      "Found 2570 images belonging to 10 classes.\n",
      "Test images\n",
      "Found 960 images belonging to 10 classes.\n"
     ]
    }
   ],
   "source": [
    "image_size = (220, 220)\n",
    "batch_size = 16\n",
    "train_dir = \"../mini project/imgs/train/\"\n",
    "\n",
    "print(\"Training images\")\n",
    "train_generator = train_datagen.flow_from_directory(train_dir,\n",
    "                                                  #class = 'inferred',\n",
    "                                                  class_mode='categorical',\n",
    "                                                  target_size=image_size,\n",
    "                                                  batch_size=batch_size,\n",
    "                                                  seed=1,\n",
    "                                                  shuffle=True,\n",
    "                                                  subset='training')\n",
    "print(\"Validation images\")\n",
    "val_generator = train_datagen.flow_from_directory(train_dir,\n",
    "                                                  #class = 'inferred',\n",
    "                                                  class_mode='categorical',\n",
    "                                                  target_size=image_size,\n",
    "                                                  batch_size=batch_size,\n",
    "                                                  seed=1,\n",
    "                                                  shuffle=True,\n",
    "                                                  subset='validation')\n",
    "print(\"Test images\")\n",
    "test_generator=test_datagen.flow_from_directory(directory=test_imgs,\n",
    "                                                class_mode=\"categorical\",\n",
    "                                                target_size=image_size,\n",
    "                                                shuffle=False,\n",
    "                                                batch_size=batch_size)"
   ]
  },
  {
   "cell_type": "code",
   "execution_count": 7,
   "id": "05b49adf",
   "metadata": {},
   "outputs": [
    {
     "data": {
      "text/plain": [
       "<KerasTensor: shape=(None, 220, 220, 3) dtype=float32 (created by layer 'input_1')>"
      ]
     },
     "execution_count": 7,
     "metadata": {},
     "output_type": "execute_result"
    }
   ],
   "source": [
    "IMAGE_SIZE = [220, 220]\n",
    "vgg = VGG16(input_shape=IMAGE_SIZE + [3], weights='imagenet', include_top=False)\n",
    "vgg.input"
   ]
  },
  {
   "cell_type": "code",
   "execution_count": 8,
   "id": "61b97c23",
   "metadata": {},
   "outputs": [],
   "source": [
    "for layer in vgg.layers:\n",
    "  layer.trainable = False"
   ]
  },
  {
   "cell_type": "code",
   "execution_count": 9,
   "id": "0faf9a15",
   "metadata": {},
   "outputs": [
    {
     "name": "stdout",
     "output_type": "stream",
     "text": [
      "Model: \"model\"\n",
      "_________________________________________________________________\n",
      "Layer (type)                 Output Shape              Param #   \n",
      "=================================================================\n",
      "input_1 (InputLayer)         [(None, 220, 220, 3)]     0         \n",
      "_________________________________________________________________\n",
      "block1_conv1 (Conv2D)        (None, 220, 220, 64)      1792      \n",
      "_________________________________________________________________\n",
      "block1_conv2 (Conv2D)        (None, 220, 220, 64)      36928     \n",
      "_________________________________________________________________\n",
      "block1_pool (MaxPooling2D)   (None, 110, 110, 64)      0         \n",
      "_________________________________________________________________\n",
      "block2_conv1 (Conv2D)        (None, 110, 110, 128)     73856     \n",
      "_________________________________________________________________\n",
      "block2_conv2 (Conv2D)        (None, 110, 110, 128)     147584    \n",
      "_________________________________________________________________\n",
      "block2_pool (MaxPooling2D)   (None, 55, 55, 128)       0         \n",
      "_________________________________________________________________\n",
      "block3_conv1 (Conv2D)        (None, 55, 55, 256)       295168    \n",
      "_________________________________________________________________\n",
      "block3_conv2 (Conv2D)        (None, 55, 55, 256)       590080    \n",
      "_________________________________________________________________\n",
      "block3_conv3 (Conv2D)        (None, 55, 55, 256)       590080    \n",
      "_________________________________________________________________\n",
      "block3_pool (MaxPooling2D)   (None, 27, 27, 256)       0         \n",
      "_________________________________________________________________\n",
      "block4_conv1 (Conv2D)        (None, 27, 27, 512)       1180160   \n",
      "_________________________________________________________________\n",
      "block4_conv2 (Conv2D)        (None, 27, 27, 512)       2359808   \n",
      "_________________________________________________________________\n",
      "block4_conv3 (Conv2D)        (None, 27, 27, 512)       2359808   \n",
      "_________________________________________________________________\n",
      "block4_pool (MaxPooling2D)   (None, 13, 13, 512)       0         \n",
      "_________________________________________________________________\n",
      "block5_conv1 (Conv2D)        (None, 13, 13, 512)       2359808   \n",
      "_________________________________________________________________\n",
      "block5_conv2 (Conv2D)        (None, 13, 13, 512)       2359808   \n",
      "_________________________________________________________________\n",
      "block5_conv3 (Conv2D)        (None, 13, 13, 512)       2359808   \n",
      "_________________________________________________________________\n",
      "block5_pool (MaxPooling2D)   (None, 6, 6, 512)         0         \n",
      "_________________________________________________________________\n",
      "flatten (Flatten)            (None, 18432)             0         \n",
      "_________________________________________________________________\n",
      "dense (Dense)                (None, 10)                184330    \n",
      "=================================================================\n",
      "Total params: 14,899,018\n",
      "Trainable params: 184,330\n",
      "Non-trainable params: 14,714,688\n",
      "_________________________________________________________________\n"
     ]
    }
   ],
   "source": [
    "x = Flatten()(vgg.output)\n",
    "prediction = Dense(10, activation='softmax')(x)\n",
    "model = Model(inputs=vgg.input, outputs=prediction)\n",
    "model.summary()"
   ]
  },
  {
   "cell_type": "code",
   "execution_count": 10,
   "id": "58453285",
   "metadata": {},
   "outputs": [],
   "source": [
    "model.compile(loss='categorical_crossentropy',\n",
    "              optimizer='rmsprop',\n",
    "              metrics=['accuracy'])"
   ]
  },
  {
   "cell_type": "code",
   "execution_count": 11,
   "id": "37bd9d45",
   "metadata": {},
   "outputs": [
    {
     "name": "stdout",
     "output_type": "stream",
     "text": [
      "Epoch 1/10\n",
      "50/50 [==============================] - 278s 4s/step - loss: 3.1202 - accuracy: 0.2800 - val_loss: 2.5129 - val_accuracy: 0.3400\n",
      "Epoch 2/10\n",
      "50/50 [==============================] - 206s 4s/step - loss: 1.2528 - accuracy: 0.6000 - val_loss: 1.9027 - val_accuracy: 0.4387\n",
      "Epoch 3/10\n",
      "50/50 [==============================] - 206s 4s/step - loss: 0.7740 - accuracy: 0.7462 - val_loss: 0.6939 - val_accuracy: 0.7713\n",
      "Epoch 4/10\n",
      "50/50 [==============================] - 206s 4s/step - loss: 0.4773 - accuracy: 0.8350 - val_loss: 0.6317 - val_accuracy: 0.8050\n",
      "Epoch 5/10\n",
      "50/50 [==============================] - 206s 4s/step - loss: 0.4766 - accuracy: 0.8537 - val_loss: 0.2300 - val_accuracy: 0.9325\n",
      "Epoch 6/10\n",
      "50/50 [==============================] - 206s 4s/step - loss: 0.2801 - accuracy: 0.9062 - val_loss: 0.3921 - val_accuracy: 0.8712\n",
      "Epoch 7/10\n",
      "50/50 [==============================] - 206s 4s/step - loss: 0.2563 - accuracy: 0.9187 - val_loss: 0.1441 - val_accuracy: 0.9538\n",
      "Epoch 8/10\n",
      "50/50 [==============================] - 206s 4s/step - loss: 0.2283 - accuracy: 0.9325 - val_loss: 0.1164 - val_accuracy: 0.9737\n",
      "Epoch 9/10\n",
      "50/50 [==============================] - 206s 4s/step - loss: 0.2449 - accuracy: 0.9212 - val_loss: 0.1367 - val_accuracy: 0.9650\n",
      "Epoch 10/10\n",
      "50/50 [==============================] - 206s 4s/step - loss: 0.1772 - accuracy: 0.9488 - val_loss: 0.1133 - val_accuracy: 0.9712\n"
     ]
    },
    {
     "data": {
      "text/plain": [
       "<keras.callbacks.History at 0x208acbd50d0>"
      ]
     },
     "execution_count": 11,
     "metadata": {},
     "output_type": "execute_result"
    }
   ],
   "source": [
    "model.fit(train_generator,\n",
    "          steps_per_epoch=50,\n",
    "          epochs=10,\n",
    "          validation_data=val_generator,\n",
    "          validation_steps=50)"
   ]
  },
  {
   "cell_type": "code",
   "execution_count": 12,
   "id": "21ed7381",
   "metadata": {},
   "outputs": [],
   "source": [
    "model.save('vgg_model2.h5')"
   ]
  },
  {
   "cell_type": "code",
   "execution_count": 13,
   "id": "b8d0e7e3",
   "metadata": {},
   "outputs": [
    {
     "data": {
      "image/png": "[encoded data removed]",
      "text/plain": [
       "<Figure size 864x360 with 1 Axes>"
      ]
     },
     "metadata": {
      "needs_background": "light"
     },
     "output_type": "display_data"
    },
    {
     "data": {
      "image/png": "[encoded data removed]",
      "text/plain": [
       "<Figure size 864x360 with 1 Axes>"
      ]
     },
     "metadata": {
      "needs_background": "light"
     },
     "output_type": "display_data"
    }
   ],
   "source": [
    "plt.figure(figsize=(12,5))\n",
    "plt.subplot(1,2,1)\n",
    "plt.plot(model.history.history['loss'])\n",
    "plt.plot(model.history.history['val_loss'])\n",
    "plt.title('Loss')\n",
    "plt.xlabel('epoch')\n",
    "plt.ylabel('loss')\n",
    "plt.legend(['train', 'val'])\n",
    "plt.show()\n",
    "\n",
    "plt.figure(figsize=(12,5))\n",
    "plt.subplot(1,2,2)\n",
    "plt.plot(model.history.history['accuracy'])\n",
    "plt.plot(model.history.history['val_accuracy'])\n",
    "plt.title('Accuracy')\n",
    "plt.xlabel('epoch')\n",
    "plt.ylabel('acc')\n",
    "plt.legend(['train', 'val'])\n",
    "\n",
    "plt.show()"
   ]
  },
  {
   "cell_type": "code",
   "execution_count": null,
   "id": "2688bf0d",
   "metadata": {},
   "outputs": [],
   "source": []
  }
 ],
 "metadata": {
  "kernelspec": {
   "display_name": "Python 3",
   "language": "python",
   "name": "python3"
  },
  "language_info": {
   "codemirror_mode": {
    "name": "ipython",
    "version": 3
   },
   "file_extension": ".py",
   "mimetype": "text/x-python",
   "name": "python",
   "nbconvert_exporter": "python",
   "pygments_lexer": "ipython3",
   "version": "3.8.8"
  }
 },
 "nbformat": 4,
 "nbformat_minor": 5
}
